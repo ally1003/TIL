{
 "cells": [
  {
   "cell_type": "code",
   "execution_count": 1,
   "id": "d011936a-5144-4610-9cd4-ece9ce5ab4b9",
   "metadata": {},
   "outputs": [],
   "source": [
    "# statistical imputation transform for the horse colic dataset\n",
    "\n",
    "from numpy import isnan\n",
    "from pandas import read_csv\n",
    "from sklearn.impute import SimpleImputer"
   ]
  },
  {
   "cell_type": "code",
   "execution_count": 2,
   "id": "6ba66d03-4eae-46c1-a6ce-f703c70ae9e7",
   "metadata": {},
   "outputs": [],
   "source": [
    "# load dataset\n",
    "url = 'https://raw.githubusercontent.com/jbrownlee/Datasets/master/horse-colic.csv'\n",
    "dataframe = read_csv(url, header=None, na_values='?')"
   ]
  },
  {
   "cell_type": "code",
   "execution_count": 3,
   "id": "d9ca19fa-aa0b-4615-87ad-b4bf3354e091",
   "metadata": {},
   "outputs": [],
   "source": [
    "# split into input and output elements\n",
    "data = dataframe.values\n",
    "ix = [i for i in range(data.shape[1]) if i != 23]\n",
    "X, y = data[:, ix], data[:, 23]"
   ]
  },
  {
   "cell_type": "code",
   "execution_count": 4,
   "id": "cd475c36-0987-496b-b784-9b92b3697614",
   "metadata": {},
   "outputs": [
    {
     "name": "stdout",
     "output_type": "stream",
     "text": [
      "Missing: 1605\n"
     ]
    }
   ],
   "source": [
    "# print total missing\n",
    "print('Missing: %d' % sum(isnan(X).flatten()))"
   ]
  },
  {
   "cell_type": "code",
   "execution_count": 11,
   "id": "1b44a5a8-6bd4-4baa-ba16-55490dbd140c",
   "metadata": {},
   "outputs": [],
   "source": [
    "# define imputer\n",
    "#imputer = SimpleImputer(strategy='mean')\n",
    "imputer = SimpleImputer(strategy='median')"
   ]
  },
  {
   "cell_type": "code",
   "execution_count": 12,
   "id": "8dce6136-5c8d-457f-9cef-d656ec85d005",
   "metadata": {},
   "outputs": [
    {
     "data": {
      "text/plain": [
       "SimpleImputer(strategy='median')"
      ]
     },
     "execution_count": 12,
     "metadata": {},
     "output_type": "execute_result"
    }
   ],
   "source": [
    "# fit on the dataset\n",
    "imputer.fit(X)"
   ]
  },
  {
   "cell_type": "code",
   "execution_count": 13,
   "id": "80f73c38-68a5-4995-97e6-aa7372783e83",
   "metadata": {},
   "outputs": [],
   "source": [
    "# transform the dataset\n",
    "Xtrans = imputer.transform(X)"
   ]
  },
  {
   "cell_type": "code",
   "execution_count": 14,
   "id": "ce4a6c10-1a90-4e36-9066-353e268c7889",
   "metadata": {},
   "outputs": [
    {
     "name": "stdout",
     "output_type": "stream",
     "text": [
      "Missing: 0\n"
     ]
    }
   ],
   "source": [
    "# print total missing\n",
    "print('Missing: %d' % sum(isnan(Xtrans).flatten()))"
   ]
  },
  {
   "cell_type": "code",
   "execution_count": 15,
   "id": "5d60cc35-00a6-4f0b-9194-7c32f49e770f",
   "metadata": {},
   "outputs": [
    {
     "data": {
      "text/plain": [
       "array([[2.00000e+00, 1.00000e+00, 5.30101e+05, ..., 0.00000e+00,\n",
       "        0.00000e+00, 2.00000e+00],\n",
       "       [1.00000e+00, 1.00000e+00, 5.34817e+05, ..., 0.00000e+00,\n",
       "        0.00000e+00, 2.00000e+00],\n",
       "       [2.00000e+00, 1.00000e+00, 5.30334e+05, ..., 0.00000e+00,\n",
       "        0.00000e+00, 1.00000e+00],\n",
       "       ...,\n",
       "       [1.00000e+00, 1.00000e+00, 5.29386e+05, ..., 0.00000e+00,\n",
       "        0.00000e+00, 2.00000e+00],\n",
       "       [1.00000e+00, 1.00000e+00, 5.30612e+05, ..., 0.00000e+00,\n",
       "        0.00000e+00, 1.00000e+00],\n",
       "       [1.00000e+00, 1.00000e+00, 5.34618e+05, ..., 0.00000e+00,\n",
       "        0.00000e+00, 2.00000e+00]])"
      ]
     },
     "execution_count": 15,
     "metadata": {},
     "output_type": "execute_result"
    }
   ],
   "source": [
    "Xtrans[0:,]"
   ]
  },
  {
   "cell_type": "code",
   "execution_count": null,
   "id": "7812e435-cde6-4431-83f0-f916e36427e2",
   "metadata": {},
   "outputs": [],
   "source": []
  }
 ],
 "metadata": {
  "kernelspec": {
   "display_name": "Python Multi",
   "language": "python",
   "name": "multi"
  },
  "language_info": {
   "codemirror_mode": {
    "name": "ipython",
    "version": 3
   },
   "file_extension": ".py",
   "mimetype": "text/x-python",
   "name": "python",
   "nbconvert_exporter": "python",
   "pygments_lexer": "ipython3",
   "version": "3.7.6"
  }
 },
 "nbformat": 4,
 "nbformat_minor": 5
}
