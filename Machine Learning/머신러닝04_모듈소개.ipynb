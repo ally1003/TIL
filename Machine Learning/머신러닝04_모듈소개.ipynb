{
 "cells": [
  {
   "cell_type": "markdown",
   "id": "8beda21f-791f-40c0-bea0-9d0a3a356b28",
   "metadata": {},
   "source": [
    "# 머신러닝04_Model Selection 모듈 소개_0722.2021"
   ]
  },
  {
   "cell_type": "markdown",
   "id": "83c5ae7d-6146-4579-9731-e082fed6f7c2",
   "metadata": {},
   "source": [
    "### (1) 학습/테스트 데이터 셋 분리하지 않고 예측"
   ]
  },
  {
   "cell_type": "code",
   "execution_count": 1,
   "id": "febfbd41-8391-42da-b6a5-63034544f770",
   "metadata": {},
   "outputs": [
    {
     "name": "stdout",
     "output_type": "stream",
     "text": [
      "예측 정확도: 1.0\n"
     ]
    }
   ],
   "source": [
    "from sklearn.datasets import load_iris\n",
    "from sklearn.tree import DecisionTreeClassifier\n",
    "from sklearn.metrics import accuracy_score\n",
    "\n",
    "iris_data = load_iris()\n",
    "dt_clf = DecisionTreeClassifier()\n",
    "\n",
    "train_data = iris_data.data\n",
    "train_label = iris_data.target\n",
    "\n",
    "# 학습 수행\n",
    "dt_clf.fit(train_data, train_label)\n",
    "\n",
    "# 테스트\n",
    "pred = dt_clf.predict(train_data)\n",
    "print(\"예측 정확도:\", accuracy_score(train_label, pred))"
   ]
  },
  {
   "cell_type": "markdown",
   "id": "9857b0d8-2019-48df-87ca-5bed74c86d37",
   "metadata": {},
   "source": [
    "- 예측을 train_Data로 했기 때문에 결과 1.0으로 출력(잘못됨)\n",
    "- 예측은 테스트 데이터로 해야 함"
   ]
  },
  {
   "cell_type": "markdown",
   "id": "e7b79a91-0338-4bf9-a53f-20866c9a369e",
   "metadata": {},
   "source": [
    "### (2) 학습/테스트 데이터 셋 분리하고 예측"
   ]
  },
  {
   "cell_type": "code",
   "execution_count": 2,
   "id": "015909cd-0c77-4786-82e6-9b715955b010",
   "metadata": {},
   "outputs": [
    {
     "name": "stdout",
     "output_type": "stream",
     "text": [
      "[1 0 2 0 1 2 2 1 1 0 2 0 1 0 2 0 0 1 1 2 0 1 2 2 1 1 0 1 2 1 0 1 0 1 2 1 2\n",
      " 1 0 2 2 0 1 2 0 2 1 2 1 0 2 1 2 0 2 1 2 1 2 1 1 2 1 1 2 1 1 0 2 0 1 0 1 1\n",
      " 1 1 0 2 2 1 1 1 0 0 2 2 0 0 0 2 0 0 2 2 1 0 0 0 2 1 0 0 2 1 2 0 0 2 1 1 1\n",
      " 2 2 1 2 1 1 2 2 2]\n"
     ]
    }
   ],
   "source": [
    "from sklearn.datasets import load_iris\n",
    "from sklearn.tree import DecisionTreeClassifier\n",
    "from sklearn.metrics import accuracy_score\n",
    "from sklearn.model_selection import train_test_split\n",
    "\n",
    "iris_data = load_iris()\n",
    "dt_clf = DecisionTreeClassifier()\n",
    "\n",
    "# 학습/테스트 데이터 분할(split)\n",
    "X_train, X_test, y_train, y_test = train_test_split(iris_data.data, iris_data.target, test_size=0.2, random_state=4)\n",
    "\n",
    "print(y_train)"
   ]
  },
  {
   "cell_type": "code",
   "execution_count": 3,
   "id": "75fd9f1a-c584-40e1-9e31-0dd4156579c2",
   "metadata": {},
   "outputs": [
    {
     "name": "stdout",
     "output_type": "stream",
     "text": [
      "예측정확도: 0.9666666666666667\n"
     ]
    }
   ],
   "source": [
    "# 학습 수행\n",
    "dt_clf.fit(X_train, y_train)\n",
    "\n",
    "# 예측 수행\n",
    "pred = dt_clf.predict(X_test)\n",
    "print(\"예측정확도:\", accuracy_score(y_test, pred))"
   ]
  },
  {
   "cell_type": "markdown",
   "id": "e6b4730e-a42c-4188-99d6-79d6cd8aaa6e",
   "metadata": {},
   "source": [
    "#### 넘파이 ndarray뿐만 아니라 판다스 DataFrame/Series도 train_test_split() 분할 가능"
   ]
  },
  {
   "cell_type": "code",
   "execution_count": 8,
   "id": "61d11760-c06b-4f57-a5ac-9776bbfa9c42",
   "metadata": {},
   "outputs": [
    {
     "data": {
      "text/html": [
       "<div>\n",
       "<style scoped>\n",
       "    .dataframe tbody tr th:only-of-type {\n",
       "        vertical-align: middle;\n",
       "    }\n",
       "\n",
       "    .dataframe tbody tr th {\n",
       "        vertical-align: top;\n",
       "    }\n",
       "\n",
       "    .dataframe thead th {\n",
       "        text-align: right;\n",
       "    }\n",
       "</style>\n",
       "<table border=\"1\" class=\"dataframe\">\n",
       "  <thead>\n",
       "    <tr style=\"text-align: right;\">\n",
       "      <th></th>\n",
       "      <th>sepal length (cm)</th>\n",
       "      <th>sepal width (cm)</th>\n",
       "      <th>petal length (cm)</th>\n",
       "      <th>petal width (cm)</th>\n",
       "      <th>target</th>\n",
       "    </tr>\n",
       "  </thead>\n",
       "  <tbody>\n",
       "    <tr>\n",
       "      <th>0</th>\n",
       "      <td>5.1</td>\n",
       "      <td>3.5</td>\n",
       "      <td>1.4</td>\n",
       "      <td>0.2</td>\n",
       "      <td>0</td>\n",
       "    </tr>\n",
       "    <tr>\n",
       "      <th>1</th>\n",
       "      <td>4.9</td>\n",
       "      <td>3.0</td>\n",
       "      <td>1.4</td>\n",
       "      <td>0.2</td>\n",
       "      <td>0</td>\n",
       "    </tr>\n",
       "    <tr>\n",
       "      <th>2</th>\n",
       "      <td>4.7</td>\n",
       "      <td>3.2</td>\n",
       "      <td>1.3</td>\n",
       "      <td>0.2</td>\n",
       "      <td>0</td>\n",
       "    </tr>\n",
       "  </tbody>\n",
       "</table>\n",
       "</div>"
      ],
      "text/plain": [
       "   sepal length (cm)  sepal width (cm)  petal length (cm)  petal width (cm)  \\\n",
       "0                5.1               3.5                1.4               0.2   \n",
       "1                4.9               3.0                1.4               0.2   \n",
       "2                4.7               3.2                1.3               0.2   \n",
       "\n",
       "   target  \n",
       "0       0  \n",
       "1       0  \n",
       "2       0  "
      ]
     },
     "execution_count": 8,
     "metadata": {},
     "output_type": "execute_result"
    }
   ],
   "source": [
    "\n",
    "import pandas as pd\n",
    "\n",
    "iris_df = pd.DataFrame(iris_data.data, columns=iris_data.feature_names)\n",
    "iris_df['target']=iris_data.target\n",
    "iris_df.head(3)\n"
   ]
  },
  {
   "cell_type": "code",
   "execution_count": 9,
   "id": "0cbd3931-bddc-4770-b02b-374d90f3ecdb",
   "metadata": {},
   "outputs": [],
   "source": [
    "# 피처 데이터프레임 반환 (마지막 열 전까지, 마지막 열 제외)\n",
    "feature_df = iris_df.iloc[:, :-1]\n",
    "\n",
    "# 타깃 데이터프레임 반환\n",
    "target_df = iris_df.iloc[:, -1]\n",
    "\n",
    "# 학습/테스트 데이터 분할\n",
    "X_train, X_test, y_train, y_test = train_test_split(feature_df,\n",
    "                                                    target_df,\n",
    "                                                    test_size=0.3,\n",
    "                                                    random_state=4)"
   ]
  },
  {
   "cell_type": "code",
   "execution_count": 10,
   "id": "78b17860-7711-405f-aed5-cdcf47831827",
   "metadata": {},
   "outputs": [
    {
     "data": {
      "text/plain": [
       "pandas.core.frame.DataFrame"
      ]
     },
     "execution_count": 10,
     "metadata": {},
     "output_type": "execute_result"
    }
   ],
   "source": [
    "type(X_train)"
   ]
  },
  {
   "cell_type": "code",
   "execution_count": 11,
   "id": "529272b4-4688-48cb-9475-57accb13ee1a",
   "metadata": {},
   "outputs": [
    {
     "name": "stdout",
     "output_type": "stream",
     "text": [
      "예측정확도: 0.978\n"
     ]
    }
   ],
   "source": [
    "dt_clf = DecisionTreeClassifier()\n",
    "dt_clf.fit(X_train, y_train)\n",
    "pred = dt_clf.predict(X_test)\n",
    "print('예측정확도: {0:.3f}'.format(accuracy_score(y_test, pred)))"
   ]
  },
  {
   "cell_type": "markdown",
   "id": "24fc8c94-66d0-4b54-82ca-36e0db08cf30",
   "metadata": {},
   "source": [
    "#### 홀드-아웃 방식\n",
    "- 데이터를 두 개 세트로 나누어 각각 Train과 Test 세트로 사용\n",
    "- Train과 Test의 비율을 7:3~9:1로 널리 사용하나, 알고리즘의 특성 및 상황에 따라 적저란 비율을 사용\n",
    "\n",
    "#### 학습/테스트 데이터 셋 분리 시 문제점\n",
    "- 과적합(overfitting) 문제 발생\n",
    "- 부적합한 데이터 선별로 인한 알고리즘 성능 저하"
   ]
  },
  {
   "cell_type": "markdown",
   "id": "dcd97b78-bb87-40ea-9298-2c7a5b0bd384",
   "metadata": {},
   "source": [
    "### 교차검증(Cross Validation, CV)\n",
    "- K-fold Cross Validation 이라고도 함\n",
    "- 전체 데이터 세트를 임의로 k개의 그룹으로 나누고, 그 가운데 하나의 그룹을 돌아가면서 테스트 데이터 세트로, 나머지 k-1개 그룹은 학습용 데이터 세트로 사용하는 방법\n",
    "- 별도의 여러 세트로 구성된 학습 데이터 세트와 검증 데이터 세트에서 학습과 평가를 수행\n",
    "\n",
    "- 사용 목적\n",
    "    - 데이터에 적합한 알고리즘인지 평가하기 위해\n",
    "    - 모델에 적절한 hyperparameter 찾기 위해\n",
    "    - 과대적합 예방\n",
    "    - 데이터 편증을 막기 위해"
   ]
  },
  {
   "cell_type": "markdown",
   "id": "dfa200a9-70dd-40c7-8948-a6131ac6af59",
   "metadata": {},
   "source": [
    "#### 교차 검증 방법\n",
    "- K 폴드 교차 검증\n",
    "- Stratified K 폴드 교차 검증\n",
    "\n",
    "#### K 폴드 교차 검증\n",
    "- k개의 데어터 폴드 세트를 만들어서\n",
    "- k번만큼 각 폴드 세트에 학습과 검증 평가를 반복적으로 수행\n",
    "- 가장 보편적으로 사용되는 교차 검증 기법\n",
    "- 5/10-폴드 교차 검증\n",
    "\n",
    "#### K 폴드 교차 검증 프로세스 구현을 위한 사이킷런 클래스\n",
    "(1) KFold 클래스 : 폴드 세트로 분리하는 객체 생성\n",
    "- kfold = KFold(n_splits=5)\n",
    "\n",
    "(2) split()메소드 : 폴드 데이터 세트로 분리\n",
    "- kfold.split(featrues)\n",
    "- 각 폴드마다 학습용, 검증용, 테스트 데이터 추출, 학습용 및 예측 수행, 정확도 측정\n",
    "\n",
    "(3) 최종 평균 정확도 계산"
   ]
  },
  {
   "cell_type": "code",
   "execution_count": null,
   "id": "3614cdb0-8ce4-4080-bd3c-64f8735d3683",
   "metadata": {},
   "outputs": [],
   "source": [
    "###"
   ]
  },
  {
   "cell_type": "code",
   "execution_count": null,
   "id": "cd1bc05a-0784-4509-8a69-23033fa2c7ab",
   "metadata": {},
   "outputs": [],
   "source": [
    "from sklearn.tree import DecisionTreeClassifier\n",
    "from sklearn.metrics import accuracy_score\n",
    "from sklearn.model_selection import KFold\n",
    "\n",
    "iris = load_iris()\n",
    "features = iris.data\n",
    "label = iris.target\n",
    "\n",
    "features.shape"
   ]
  },
  {
   "cell_type": "code",
   "execution_count": null,
   "id": "6a730779-8a0f-475c-826c-dcf136bd70d6",
   "metadata": {},
   "outputs": [],
   "source": [
    "# DecisionTreeClassifier 객체 생성\n",
    "dt_clf = DecisionTreeClassifier(random_state=156)\n",
    "\n",
    "# 5개의 폴드 세트로 분리하는 KFold 객체 생성\n",
    "kfold = KFold(n_splits=5)\n",
    "\n",
    "# 폴드 세트별 정확도를 담을 리스트 객체 생성\n",
    "cv_accuaracy = []"
   ]
  },
  {
   "cell_type": "code",
   "execution_count": null,
   "id": "11ddd44d-920a-4b10-9053-5149a0457c99",
   "metadata": {},
   "outputs": [],
   "source": [
    "# 폴드 별 학습용, 검증용 데이터 세트의 행 인덱스 확인\n",
    "for train_index, test_index in kfold.split(features):\n",
    "    print(train_index, test_index)"
   ]
  },
  {
   "cell_type": "code",
   "execution_count": null,
   "id": "6bfcb170-073e-4b8c-b053-185351a981b2",
   "metadata": {},
   "outputs": [],
   "source": [
    "import numpy as np\n",
    "\n",
    "for train_index, test_index in kfold.split(features):\n",
    "    X_train = features[train_index]\n",
    "    X_test = features[test_index]\n",
    "    y_train = label[train_index]\n",
    "    y_test = label[test_index]\n",
    "    \n",
    "    dt_clf.fit(X_train, y_train)\n",
    "    pred = dt_clf.predict(X_test)\n",
    "    \n",
    "    acc = np.round(accuracy_score(y_test, pred), 3) # 반올림 3자리로\n",
    "    train_size = X_train.shape[0]\n",
    "    test_size = X_test.shape[0]\n",
    "    \n",
    "    print('정확도: %f, 학습데이터크기 : %d, 검증데이터크기: %d' %(acc, train_size, test_size))\n",
    "    cv_accuaracy.append(acc)\n",
    "    \n",
    "print('평균 검증 정확도: ', np.mean(cv_accuaracy))"
   ]
  },
  {
   "cell_type": "markdown",
   "id": "5a878ac9-500d-4875-858e-a39bd8ecae36",
   "metadata": {},
   "source": [
    "### Stratified K 폴드 교차 검증\n",
    "- 불균형한 분포도를 가진 레이블(결정 클래스) **데이터 집합을 위한 K 폴드 방식**\n",
    "\n",
    "#### 불균형한 데이터(imbalanced data)문제\n",
    "- 관심 대상 데이터가 상대적으로 매우 적은 비율로 나타나는 데이터 문제\n",
    "- 분류 문제인 경우 : 클래스들이 균일하게 분포하지 않은 문제를 의미\n",
    "    - ex) 불량률이 1%인 생산라인에서 양푸뫄 불량품을 예측하는 문제\n",
    "    - 사기감지탐지(fraud detection), 이상거래감지(anomaly detection), 의료진단(medical diagnosis)등 에서 자주 나타남\n",
    "- 회긔 문제인 경우 : 극단값이 포함되어 있는 '치우친'데이터 사례\n",
    "    - ex) 산불에 의한 피해 면적을 예측하는 문제\n",
    "\n",
    "**우회/극복하는 방법**\n",
    "- 데이터 추가 확버\n",
    "- Re-Sampling\n",
    "    - Under-sampling(과소표집)\n",
    "        - 다른 클래스에 비하여 상대적으로 많이 나타나는 클래스의 개수를 줄임\n",
    "        - 균형은 유지할 수 있으나 유용한 정보에 대한 손실이 있을 수 있음\n",
    "    - Over-Sampling(과대표집)\n",
    "        - 상대적으로 적게 나타나는 클래스의 데이터를 복제하여 데이터의 개수를 늘림\n",
    "        - 정보 손실은 없이 학습 성능은 높아지는 반면, 과적합의 위험이 있음\n",
    "        - 이를 회피하기 위해서 SMOTE와 같이 임의의 값을 생성하여 추가하는 방법 사용"
   ]
  },
  {
   "cell_type": "code",
   "execution_count": null,
   "id": "fb7f18c5-07bc-4d3c-ba7a-7ebd9b090441",
   "metadata": {},
   "outputs": [],
   "source": [
    "import pandas as pd\n",
    "\n",
    "iris = load_iris()\n",
    "iris_df = pd.DataFrame(data=iris.data, columns=iris.feature_names)\n",
    "iris_df['label'] = iris.target\n",
    "iris_df.head()"
   ]
  },
  {
   "cell_type": "code",
   "execution_count": null,
   "id": "8dc81863-3f46-4e06-a08d-f1949e8a78c2",
   "metadata": {},
   "outputs": [],
   "source": [
    "iris_df['label'].value_counts()\n",
    "# 레이블 값은 0,1,2 값 모두 50개로 동일\n",
    "# 즉, setosa, versicolor, virginica 각 품종 50 개씩"
   ]
  },
  {
   "cell_type": "code",
   "execution_count": null,
   "id": "af04fda1-8b36-41eb-ae27-17789dc4580a",
   "metadata": {},
   "outputs": [],
   "source": [
    "# 3개 폴드를 구성\n",
    "kfold = KFold(n_splits=3)\n",
    "\n",
    "n=0\n",
    "for train_index, test_index in kfold.split(iris_df):\n",
    "    n += 1\n",
    "    label_train = iris_df['label'].iloc[train_index]\n",
    "    label_test = iris_df['label'].iloc[test_index]\n",
    "    print('[교차검증: %d]' %(n))\n",
    "    print(' 학습용 : \\n',label_train.value_counts())\n",
    "    print(' 검증용 : \\n',label_train.value_counts())"
   ]
  },
  {
   "cell_type": "markdown",
   "id": "83f918ed-84eb-45a6-8543-82488fc7071a",
   "metadata": {},
   "source": [
    "### StratifiedKFold 클래스\n",
    "- KFfold 사용법과 거의 비슷\n",
    "- 차이점\n",
    "    - 레이블 데이터 분포도에 따라 학습/검증 데이터를 나누기 때문에 split() 메서드에 인자로 피처 데이터 세트뿐 아니라 레이블 데이터 세트도 반드시 필요하다는 것"
   ]
  },
  {
   "cell_type": "code",
   "execution_count": null,
   "id": "d49bddf2-6b98-4701-8614-115ee2db03b9",
   "metadata": {},
   "outputs": [],
   "source": [
    "from sklearn.model_selection import StratifiedKFold\n",
    "\n",
    "skf = StratifiedKFold(n_splits=3)\n",
    "n=0\n",
    "\n",
    "for train_index, test_index in skf.split(iris_df, iris_df['label']):\n",
    "    n = n + 1\n",
    "    \n",
    "    label_train = iris_df['label'].iloc[train_index]\n",
    "    label_test = iris_df['label'].iloc[test_index]\n",
    "    print('[교차검증 : %d]' %n)\n",
    "    print('학습용 레이블 분포 : \\n', label_train.value_counts())\n",
    "    print('검증용 레이블 분포 : \\n', label_test.value_counts())"
   ]
  },
  {
   "cell_type": "code",
   "execution_count": null,
   "id": "565f1826-3c38-4837-9568-a34b2f5a5466",
   "metadata": {},
   "outputs": [],
   "source": [
    "# StratifiedKFold를 이용해 붓꽃 데이터 교차 검증\n",
    "\n",
    "dt_clf = DecisionTreeClassifier(random_state=156)\n",
    "\n",
    "# 3개의 폴드 세트로 분리하는 StratifiedKFold 객체 생성\n",
    "skfold = StratifiedKFold(n_splits=3)\n",
    "\n",
    "# 폴드 세트별 정확도를 담을 리스트 객체 생성\n",
    "cv_accuracy = []\n",
    "n = 0\n",
    "\n",
    "for train_index, test_index in skfold.split(features, label):\n",
    "    X_train, X_test = features[train_index], features[test_index]\n",
    "    y_train, y_test = label[train_index], label[test_index]\n",
    "    \n",
    "    # 학습 및 예측\n",
    "    dt_clf.fit(X_train, y_train)\n",
    "    pred = dt_clf.predict(X_test)\n",
    "    \n",
    "    # 반복 시 마다 정확도 측정\n",
    "    n += 1\n",
    "    acc = np.round(accuracy_score(y_test, pred), 3)\n",
    "    train_size = X_train.shape[0]\n",
    "    test_size = X_test.shape[0]\n",
    "    print('%d \\n정확도 : %f, 학습데이터 크기: %d, 검증데이터 크기: %d' %(n, acc,train_size, test_size))\n",
    "    cv_accuracy.append(acc)\n",
    "\n",
    "print('\\n ## 평균 검증 정확도:', np.mean(cv_accuracy))"
   ]
  },
  {
   "cell_type": "markdown",
   "id": "84b1449e-2642-47bd-a2ea-269e0b7c5080",
   "metadata": {},
   "source": [
    "### 붓꽃 자료를 3개 폴드로 분할하여 학습 및 검증"
   ]
  },
  {
   "cell_type": "code",
   "execution_count": null,
   "id": "d86a7afc-06f8-4456-b744-c2bab2b06972",
   "metadata": {},
   "outputs": [],
   "source": [
    "from sklearn.tree import DecisionTreeClassifier\n",
    "from sklearn.model_selection import cross_val_score , cross_validate\n",
    "from sklearn.datasets import load_iris\n",
    "import numpy as np\n",
    "\n",
    "iris_data = load_iris()\n",
    "dt_clf = DecisionTreeClassifier(random_state=156)\n",
    "\n",
    "features = iris.data\n",
    "label = iris.target\n",
    "\n",
    "scores = cross_val_score(dt_clf, features, label, scoring = 'accuracy', cv=3)\n",
    "print('교차 검증별 정확도:', scores)\n",
    "print('평균 검증 정확도:', np.round(np.mean(scores), 4))"
   ]
  },
  {
   "cell_type": "markdown",
   "id": "055b97bb-579f-4504-8ea2-7ffc24b9c455",
   "metadata": {},
   "source": [
    "## 교차 검증과 최적의 하이퍼파라미터 튜닝을 한번에\n",
    "\n",
    "하이퍼파라미터(Hyper parameter)\n",
    "- 머신러닝 알고리즘을 구성하는 요소\n",
    "- 이 값들을 조정해 알고리즘의 예측 성능을 개선할 수 있음\n",
    "\n",
    "### 사이킷런의 GridSearchCV클래스\n",
    "- Classifier나 Regressor와 같은 알고리즘에 사용되는 하이퍼 파라미터를 순차적으로 입력하면서 최덕의 파라미터를 편리하게 도출할 수 있는 방법 제공\n",
    "\n",
    "### GridSearchCV 클래스 생성자의 주요 파라미터\n",
    "- estimator : classifier, regressor, peipeline\n",
    "- param_grid : key + 리스트 값을 가지는 딕셔너리 (estimator 튜닝을 위한 하이퍼 파라미터)\n",
    "    - key: 파라미터명, 리스트값:파라미터값\n",
    "- scoring: 예측 성능을 측정할 평가 방법\n",
    "    - 성능 평가 지표를 지정하는 문자열\n",
    "- cv : 교차 검증을 위해 분할되는 학습/테스트 세트의 개서\n",
    "- refit: 최적의 하이퍼 파라미터를 찾은 뒤 입력된 estimator 객체를 해당 하이퍼 파라미터로 재학습 여부\n",
    "    - 디폴트 : True"
   ]
  },
  {
   "cell_type": "code",
   "execution_count": null,
   "id": "2e8a22ae-c781-4f6c-8d53-6bf8ca07532f",
   "metadata": {},
   "outputs": [],
   "source": [
    "# GridSearchCV 를 이용해 결정 트리 알고맂ㅁ의 여러가지 최적화 파라미터를 숝차적으로 적용해서 붗꽃 데이터 예측 분석\n",
    "\n",
    "from sklearn.datasets import load_iris\n",
    "from sklearn.tree import DecisionTreeClassifier\n",
    "from sklearn.model_selection import GridSearchCV, train_test_split\n",
    "from sklearn.metrics import accuracy_score\n",
    "\n",
    "iris = load_iris()\n",
    "X_train, X_test, y_train, y_tst = train_test_split(iris.data, iris.target, test_size=0.2,random_state=121)\n",
    "st_clf = DecisionTreeClassifier()\n",
    "\n",
    "parameter = {'max_depth': [1,2,3], 'min_samples_split': [2,3]}\n",
    "# 하이퍼파라미터는 딕셔너리 형식으로 지정\n",
    "# key : 결정트리의 하이파라미터\n",
    "# value : 하이퍼파라미터의 값"
   ]
  },
  {
   "cell_type": "code",
   "execution_count": null,
   "id": "183091c2-eb7a-405e-8d2a-60c8f3c987b2",
   "metadata": {},
   "outputs": [],
   "source": [
    "grid_tree = GridSearchCV(dt_clf, param_grid=parameter, cv=3, refit=True, return_train_score=True)\n",
    "\n",
    "grid_tree.fit(X_train, y_train)\n",
    "\n",
    "scores_df = pd.DataFrame(grid_tree.cv_results_)\n",
    "scores_df"
   ]
  },
  {
   "cell_type": "code",
   "execution_count": null,
   "id": "12d84de9-46b5-4d87-a27c-67285d465bc6",
   "metadata": {},
   "outputs": [],
   "source": [
    "# GridSearchCV 결과 세트로 딕셔너리 형태인 cv_results_를\n",
    "# DataFrame으로 변환 후 # 일부 파라미터 확인\n",
    "\n",
    "scores_df[['params','mean_test_score', 'rank_test_score']]"
   ]
  },
  {
   "cell_type": "code",
   "execution_count": null,
   "id": "e6513dc3-ea68-4d86-9e17-186081043b29",
   "metadata": {},
   "outputs": [],
   "source": [
    "# 최고 성능을 가지는 파라미터 조합 및 예측 성능 1위 값 출력\n",
    "print('최적 파라미터: ', grid_tree.best_params_)\n",
    "print('최고 정확도:', grid_tree.best_score_)"
   ]
  },
  {
   "cell_type": "code",
   "execution_count": null,
   "id": "34b51fbe-f32c-4a1d-9564-9c42c0be707a",
   "metadata": {},
   "outputs": [],
   "source": [
    "# GridSearchCV 객체의 생성 파라미터로 refit=True 로 설정된 경우(디폴트)\n",
    "# GridSearchCV가 최적 성능을 나타내는 하이퍼 파라미터로 Estimator를 학습하고\n",
    "# best_estimator_ 로 저장\n",
    "\n",
    "best_dt = grid_tree.best_estimator_\n",
    "\n",
    "# best_estimator_는 이미 최적 학습이 됐으므로 별도 학습 필요 없이 바로 예측 가능\n",
    "pred = best_dt.predict(X_test)\n",
    "accuracy_score(y_test, pred)"
   ]
  }
 ],
 "metadata": {
  "kernelspec": {
   "display_name": "Python 3",
   "language": "python",
   "name": "python3"
  },
  "language_info": {
   "codemirror_mode": {
    "name": "ipython",
    "version": 3
   },
   "file_extension": ".py",
   "mimetype": "text/x-python",
   "name": "python",
   "nbconvert_exporter": "python",
   "pygments_lexer": "ipython3",
   "version": "3.8.8"
  }
 },
 "nbformat": 4,
 "nbformat_minor": 5
}
