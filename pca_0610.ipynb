{
 "cells": [
  {
   "cell_type": "code",
   "execution_count": 1,
   "id": "14537a09-80fa-43f8-9d68-9b1c803c4e64",
   "metadata": {},
   "outputs": [],
   "source": [
    "# example of pca for dimensionality reduction"
   ]
  },
  {
   "cell_type": "code",
   "execution_count": 2,
   "id": "9c328afc-2413-4295-81ee-8f237b147df4",
   "metadata": {},
   "outputs": [],
   "source": [
    "from sklearn.datasets import make_classification\n",
    "from sklearn.decomposition import PCA"
   ]
  },
  {
   "cell_type": "code",
   "execution_count": 3,
   "id": "daca5f44-a62c-4b00-9211-92c433cbd2e0",
   "metadata": {},
   "outputs": [],
   "source": [
    "# define dataset\n",
    "X, y = make_classification(n_samples=1000, n_features=10, n_informative=3, n_redundant=7,\n",
    "random_state=1)"
   ]
  },
  {
   "cell_type": "code",
   "execution_count": 4,
   "id": "3a6461f3-3abf-4b7e-807f-9c5d045cfaea",
   "metadata": {},
   "outputs": [
    {
     "name": "stdout",
     "output_type": "stream",
     "text": [
      "[[-0.53448246  0.93837451  0.38969914  0.0926655   1.70876508  1.14351305\n",
      "  -1.47034214  0.11857673 -2.72241741  0.2953565 ]\n",
      " [-2.42280473 -1.02658758 -2.34792156 -0.82422408  0.59933419 -2.44832253\n",
      "   0.39750207  2.0265065   1.83374105  0.72430365]\n",
      " [-1.83391794 -1.1946668  -0.73806871  1.50947233  1.78047734  0.58779205\n",
      "  -2.78506977 -0.04163788 -1.25227833  0.99373587]]\n"
     ]
    }
   ],
   "source": [
    "# summarize data before the transform\n",
    "print(X[:3, :])"
   ]
  },
  {
   "cell_type": "code",
   "execution_count": null,
   "id": "56778fe6-f061-4f95-9c5f-09fe68e9608a",
   "metadata": {},
   "outputs": [],
   "source": [
    "x.shape"
   ]
  },
  {
   "cell_type": "code",
   "execution_count": null,
   "id": "cabd2bc9-8df2-427f-a0f4-bb33f83a6795",
   "metadata": {},
   "outputs": [],
   "source": [
    "y.shape"
   ]
  },
  {
   "cell_type": "code",
   "execution_count": 5,
   "id": "154fc971-dd88-4951-bb20-21b12d49aec0",
   "metadata": {},
   "outputs": [],
   "source": [
    "# define the transform\n",
    "trans = PCA(n_components=5)"
   ]
  },
  {
   "cell_type": "code",
   "execution_count": 6,
   "id": "94725bb4-cec2-4715-b992-021439d9c718",
   "metadata": {},
   "outputs": [],
   "source": [
    "# transform the data\n",
    "X_dim = trans.fit_transform(X)"
   ]
  },
  {
   "cell_type": "code",
   "execution_count": 7,
   "id": "e943c2f1-25d6-4904-bf82-029d7b14fe64",
   "metadata": {},
   "outputs": [
    {
     "name": "stdout",
     "output_type": "stream",
     "text": [
      "[[-1.64710578 -2.11683302  1.98256096]\n",
      " [ 0.92840209  4.8294997   0.22727043]\n",
      " [-3.83677757  0.32300714  0.11512801]]\n"
     ]
    }
   ],
   "source": [
    "# summarize data after the transform\n",
    "print(X_dim[:3, :])"
   ]
  },
  {
   "cell_type": "code",
   "execution_count": null,
   "id": "b0b1322d-7213-48ee-8114-422c619d3eed",
   "metadata": {},
   "outputs": [],
   "source": []
  }
 ],
 "metadata": {
  "kernelspec": {
   "display_name": "Python Multi",
   "language": "python",
   "name": "multi"
  },
  "language_info": {
   "codemirror_mode": {
    "name": "ipython",
    "version": 3
   },
   "file_extension": ".py",
   "mimetype": "text/x-python",
   "name": "python",
   "nbconvert_exporter": "python",
   "pygments_lexer": "ipython3",
   "version": "3.7.6"
  }
 },
 "nbformat": 4,
 "nbformat_minor": 5
}
